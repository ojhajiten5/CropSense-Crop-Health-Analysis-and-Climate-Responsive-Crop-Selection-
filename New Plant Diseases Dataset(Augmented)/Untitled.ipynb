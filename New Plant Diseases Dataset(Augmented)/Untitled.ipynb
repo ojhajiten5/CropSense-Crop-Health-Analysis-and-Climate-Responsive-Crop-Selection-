{
 "cells": [
  {
   "cell_type": "code",
   "execution_count": 1,
   "id": "12861d56",
   "metadata": {},
   "outputs": [],
   "source": [
    "import tensorflow as tf\n",
    "import matplotlib.pyplot as plt\n",
    "import pandas as pd\n",
    "import seaborn as sns"
   ]
  },
  {
   "cell_type": "code",
   "execution_count": null,
   "id": "8bc76c07",
   "metadata": {},
   "outputs": [],
   "source": []
  },
  {
   "cell_type": "code",
   "execution_count": 4,
   "id": "089e013c",
   "metadata": {},
   "outputs": [],
   "source": [
    "## Data processing"
   ]
  },
  {
   "cell_type": "code",
   "execution_count": 6,
   "id": "74457487",
   "metadata": {},
   "outputs": [],
   "source": [
    "## Training Image Processsing"
   ]
  },
  {
   "cell_type": "code",
   "execution_count": 8,
   "id": "08728b55",
   "metadata": {},
   "outputs": [
    {
     "name": "stdout",
     "output_type": "stream",
     "text": [
      "Found 70295 files belonging to 38 classes.\n"
     ]
    }
   ],
   "source": [
    "training_set = tf.keras.utils.image_dataset_from_directory(\n",
    "    'train',\n",
    "    labels=\"inferred\",\n",
    "    label_mode=\"categorical\",\n",
    "    class_names=None,\n",
    "    color_mode=\"rgb\",\n",
    "    batch_size=32,\n",
    "    image_size=(128, 128),\n",
    "    shuffle=True,\n",
    "    seed=None,\n",
    "    validation_split=None,\n",
    "    subset=None,\n",
    "    interpolation=\"bilinear\",\n",
    "    follow_links=False,\n",
    "    crop_to_aspect_ratio=False\n",
    ")"
   ]
  },
  {
   "cell_type": "code",
   "execution_count": 10,
   "id": "d6ddff9e",
   "metadata": {},
   "outputs": [],
   "source": [
    "### Validation Image Preprocessing"
   ]
  },
  {
   "cell_type": "code",
   "execution_count": 12,
   "id": "7a16623a",
   "metadata": {},
   "outputs": [
    {
     "name": "stdout",
     "output_type": "stream",
     "text": [
      "Found 17572 files belonging to 38 classes.\n"
     ]
    }
   ],
   "source": [
    "validation_set = tf.keras.utils.image_dataset_from_directory(\n",
    "    'valid',\n",
    "    labels=\"inferred\",\n",
    "    label_mode=\"categorical\",\n",
    "    class_names=None,\n",
    "    color_mode=\"rgb\",\n",
    "    batch_size=32,\n",
    "    image_size=(128, 128),\n",
    "    shuffle=True,\n",
    "    seed=None,\n",
    "    validation_split=None,\n",
    "    subset=None,\n",
    "    interpolation=\"bilinear\",\n",
    "    follow_links=False,\n",
    "    crop_to_aspect_ratio=False\n",
    ")"
   ]
  },
  {
   "cell_type": "code",
   "execution_count": 14,
   "id": "a7705323",
   "metadata": {},
   "outputs": [
    {
     "data": {
      "text/plain": [
       "<BatchDataset shapes: ((None, 128, 128, 3), (None, 38)), types: (tf.float32, tf.float32)>"
      ]
     },
     "execution_count": 14,
     "metadata": {},
     "output_type": "execute_result"
    }
   ],
   "source": [
    "training_set\n"
   ]
  },
  {
   "cell_type": "code",
   "execution_count": 16,
   "id": "35b339eb",
   "metadata": {},
   "outputs": [
    {
     "name": "stdout",
     "output_type": "stream",
     "text": [
      "tf.Tensor(\n",
      "[[[[146.   147.   178.  ]\n",
      "   [146.   147.   178.  ]\n",
      "   [144.25 145.25 176.25]\n",
      "   ...\n",
      "   [144.   145.   175.  ]\n",
      "   [141.   142.   172.  ]\n",
      "   [148.75 149.75 179.75]]\n",
      "\n",
      "  [[146.   147.   178.  ]\n",
      "   [146.   147.   178.  ]\n",
      "   [145.   146.   177.  ]\n",
      "   ...\n",
      "   [150.25 151.25 181.25]\n",
      "   [142.75 143.75 173.75]\n",
      "   [149.5  150.5  180.5 ]]\n",
      "\n",
      "  [[145.75 146.75 177.75]\n",
      "   [146.75 147.75 178.75]\n",
      "   [146.25 147.25 178.25]\n",
      "   ...\n",
      "   [143.   144.   174.  ]\n",
      "   [148.   149.   179.  ]\n",
      "   [141.25 142.25 172.25]]\n",
      "\n",
      "  ...\n",
      "\n",
      "  [[139.   130.   157.  ]\n",
      "   [140.25 131.25 158.25]\n",
      "   [135.25 126.25 153.25]\n",
      "   ...\n",
      "   [132.   124.   147.  ]\n",
      "   [129.   121.   144.  ]\n",
      "   [123.75 115.75 138.75]]\n",
      "\n",
      "  [[143.75 134.75 161.75]\n",
      "   [139.25 130.25 157.25]\n",
      "   [144.   135.   162.  ]\n",
      "   ...\n",
      "   [143.   135.   158.  ]\n",
      "   [136.75 128.75 151.75]\n",
      "   [143.5  135.5  158.5 ]]\n",
      "\n",
      "  [[137.5  128.5  155.5 ]\n",
      "   [140.75 131.75 158.75]\n",
      "   [140.5  131.5  158.5 ]\n",
      "   ...\n",
      "   [151.25 143.25 166.25]\n",
      "   [161.5  153.5  176.5 ]\n",
      "   [136.   128.   151.  ]]]\n",
      "\n",
      "\n",
      " [[[201.   174.   167.  ]\n",
      "   [202.75 175.75 168.75]\n",
      "   [197.75 170.75 163.75]\n",
      "   ...\n",
      "   [179.75 151.75 148.75]\n",
      "   [181.25 153.25 150.25]\n",
      "   [177.   149.   146.  ]]\n",
      "\n",
      "  [[199.5  172.5  165.5 ]\n",
      "   [198.   171.   164.  ]\n",
      "   [200.   173.   166.  ]\n",
      "   ...\n",
      "   [180.25 152.25 149.25]\n",
      "   [180.75 152.75 149.75]\n",
      "   [177.25 149.25 146.25]]\n",
      "\n",
      "  [[199.5  172.5  165.5 ]\n",
      "   [199.25 172.25 165.25]\n",
      "   [203.25 176.25 169.25]\n",
      "   ...\n",
      "   [175.25 147.25 144.25]\n",
      "   [179.   151.   148.  ]\n",
      "   [179.5  151.5  148.5 ]]\n",
      "\n",
      "  ...\n",
      "\n",
      "  [[155.75 118.75 109.75]\n",
      "   [155.25 118.25 109.25]\n",
      "   [154.25 117.25 108.25]\n",
      "   ...\n",
      "   [136.25 105.25 102.25]\n",
      "   [133.   102.    99.  ]\n",
      "   [129.25  98.25  95.25]]\n",
      "\n",
      "  [[159.25 122.25 113.25]\n",
      "   [161.75 124.75 115.75]\n",
      "   [159.75 122.75 113.75]\n",
      "   ...\n",
      "   [129.5   98.5   95.5 ]\n",
      "   [136.   105.   102.  ]\n",
      "   [136.25 105.25 102.25]]\n",
      "\n",
      "  [[159.5  122.5  113.5 ]\n",
      "   [158.75 121.75 112.75]\n",
      "   [160.25 123.25 114.25]\n",
      "   ...\n",
      "   [139.75 108.75 105.75]\n",
      "   [129.25  98.25  95.25]\n",
      "   [137.5  106.5  103.5 ]]]\n",
      "\n",
      "\n",
      " [[[ 82.    73.    85.  ]\n",
      "   [159.   148.   164.  ]\n",
      "   [162.25 150.25 170.25]\n",
      "   ...\n",
      "   [147.75 141.75 169.75]\n",
      "   [145.75 139.75 167.75]\n",
      "   [142.5  136.5  164.5 ]]\n",
      "\n",
      "  [[ 83.5   73.75  86.5 ]\n",
      "   [158.75 147.75 163.75]\n",
      "   [160.5  148.5  168.5 ]\n",
      "   ...\n",
      "   [146.5  140.5  168.5 ]\n",
      "   [147.5  141.5  169.5 ]\n",
      "   [143.25 137.25 165.25]]\n",
      "\n",
      "  [[ 85.25  75.    88.25]\n",
      "   [160.   149.   165.  ]\n",
      "   [154.25 142.25 162.25]\n",
      "   ...\n",
      "   [150.25 144.25 172.25]\n",
      "   [152.75 146.75 174.75]\n",
      "   [149.25 143.25 171.25]]\n",
      "\n",
      "  ...\n",
      "\n",
      "  [[ 82.5   75.5   87.5 ]\n",
      "   [135.25 127.25 142.25]\n",
      "   [122.25 113.25 132.25]\n",
      "   ...\n",
      "   [164.5  158.5  184.5 ]\n",
      "   [164.5  158.5  184.5 ]\n",
      "   [146.75 140.75 166.75]]\n",
      "\n",
      "  [[ 61.5   55.25  66.5 ]\n",
      "   [143.25 135.25 150.25]\n",
      "   [144.25 135.25 154.25]\n",
      "   ...\n",
      "   [141.25 135.25 161.25]\n",
      "   [161.5  155.5  181.5 ]\n",
      "   [142.25 136.25 162.25]]\n",
      "\n",
      "  [[ 59.5   53.5   64.5 ]\n",
      "   [127.5  119.5  134.5 ]\n",
      "   [134.75 125.75 144.75]\n",
      "   ...\n",
      "   [160.   154.   180.  ]\n",
      "   [161.   155.   181.  ]\n",
      "   [151.5  145.5  171.5 ]]]\n",
      "\n",
      "\n",
      " ...\n",
      "\n",
      "\n",
      " [[[192.   183.   178.  ]\n",
      "   [197.5  188.5  183.5 ]\n",
      "   [198.75 189.75 184.75]\n",
      "   ...\n",
      "   [198.   193.   189.  ]\n",
      "   [205.   197.   194.  ]\n",
      "   [212.   204.   201.  ]]\n",
      "\n",
      "  [[194.75 185.75 180.75]\n",
      "   [199.   190.   185.  ]\n",
      "   [199.75 190.75 185.75]\n",
      "   ...\n",
      "   [196.   191.   188.  ]\n",
      "   [192.   187.   184.  ]\n",
      "   [202.25 197.25 194.25]]\n",
      "\n",
      "  [[198.25 189.25 184.25]\n",
      "   [194.75 185.75 180.75]\n",
      "   [194.75 185.75 180.75]\n",
      "   ...\n",
      "   [200.5  191.5  192.5 ]\n",
      "   [190.   184.   184.  ]\n",
      "   [194.   188.   188.  ]]\n",
      "\n",
      "  ...\n",
      "\n",
      "  [[146.   135.   131.  ]\n",
      "   [153.5  142.5  138.5 ]\n",
      "   [165.25 154.25 150.25]\n",
      "   ...\n",
      "   [117.5  109.5  107.5 ]\n",
      "   [134.25 126.25 124.25]\n",
      "   [125.25 117.25 115.25]]\n",
      "\n",
      "  [[143.75 132.75 128.75]\n",
      "   [165.5  154.5  150.5 ]\n",
      "   [153.   142.   138.  ]\n",
      "   ...\n",
      "   [124.   116.   114.  ]\n",
      "   [118.25 110.25 108.25]\n",
      "   [119.5  111.5  109.5 ]]\n",
      "\n",
      "  [[152.5  141.5  137.5 ]\n",
      "   [157.   146.   142.  ]\n",
      "   [167.5  156.5  152.5 ]\n",
      "   ...\n",
      "   [114.25 106.25 104.25]\n",
      "   [121.   113.   111.  ]\n",
      "   [119.25 111.25 109.25]]]\n",
      "\n",
      "\n",
      " [[[165.5  154.5  168.5 ]\n",
      "   [164.75 153.75 167.75]\n",
      "   [164.5  153.5  167.5 ]\n",
      "   ...\n",
      "   [122.5  113.5  134.5 ]\n",
      "   [120.5  111.5  132.5 ]\n",
      "   [123.25 114.25 135.25]]\n",
      "\n",
      "  [[171.25 160.25 174.25]\n",
      "   [168.75 157.75 171.75]\n",
      "   [168.5  157.5  171.5 ]\n",
      "   ...\n",
      "   [119.   110.   131.  ]\n",
      "   [122.   113.   134.  ]\n",
      "   [124.   115.   136.  ]]\n",
      "\n",
      "  [[169.5  158.5  172.5 ]\n",
      "   [167.   156.   170.  ]\n",
      "   [170.   159.   173.  ]\n",
      "   ...\n",
      "   [124.5  115.5  136.5 ]\n",
      "   [121.75 112.75 133.75]\n",
      "   [118.75 109.75 130.75]]\n",
      "\n",
      "  ...\n",
      "\n",
      "  [[164.5  155.5  172.5 ]\n",
      "   [164.5  155.5  172.5 ]\n",
      "   [165.75 156.75 173.75]\n",
      "   ...\n",
      "   [105.75  97.75 112.75]\n",
      "   [107.25  99.25 114.25]\n",
      "   [111.5  103.5  118.5 ]]\n",
      "\n",
      "  [[164.   155.   172.  ]\n",
      "   [164.25 155.25 172.25]\n",
      "   [169.   160.   177.  ]\n",
      "   ...\n",
      "   [105.25  97.25 112.25]\n",
      "   [100.75  92.75 107.75]\n",
      "   [112.75 104.75 119.75]]\n",
      "\n",
      "  [[165.5  156.5  173.5 ]\n",
      "   [163.   154.   171.  ]\n",
      "   [164.75 155.75 172.75]\n",
      "   ...\n",
      "   [111.5  102.5  119.5 ]\n",
      "   [107.25  98.25 115.25]\n",
      "   [112.   103.   120.  ]]]\n",
      "\n",
      "\n",
      " [[[255.   255.   255.  ]\n",
      "   [255.   255.   255.  ]\n",
      "   [255.   255.   255.  ]\n",
      "   ...\n",
      "   [255.   255.   255.  ]\n",
      "   [255.   255.   255.  ]\n",
      "   [255.   255.   255.  ]]\n",
      "\n",
      "  [[255.   255.   255.  ]\n",
      "   [255.   255.   255.  ]\n",
      "   [255.   255.   255.  ]\n",
      "   ...\n",
      "   [255.   255.   255.  ]\n",
      "   [255.   255.   255.  ]\n",
      "   [255.   255.   255.  ]]\n",
      "\n",
      "  [[255.   255.   255.  ]\n",
      "   [255.   255.   255.  ]\n",
      "   [255.   255.   255.  ]\n",
      "   ...\n",
      "   [255.   255.   255.  ]\n",
      "   [255.   255.   255.  ]\n",
      "   [255.   255.   255.  ]]\n",
      "\n",
      "  ...\n",
      "\n",
      "  [[250.5  250.5  250.5 ]\n",
      "   [252.   252.   252.  ]\n",
      "   [253.5  253.5  253.5 ]\n",
      "   ...\n",
      "   [250.   245.75 247.75]\n",
      "   [252.5  245.75 250.5 ]\n",
      "   [218.25 203.   209.  ]]\n",
      "\n",
      "  [[252.75 252.75 252.75]\n",
      "   [253.75 253.75 253.75]\n",
      "   [255.   255.   255.  ]\n",
      "   ...\n",
      "   [250.5  246.25 248.25]\n",
      "   [254.75 241.   246.5 ]\n",
      "   [248.   228.25 235.75]]\n",
      "\n",
      "  [[255.   255.   255.  ]\n",
      "   [255.   255.   255.  ]\n",
      "   [254.75 254.75 254.75]\n",
      "   ...\n",
      "   [254.75 249.   252.  ]\n",
      "   [255.   245.25 251.5 ]\n",
      "   [164.75 140.25 148.75]]]], shape=(32, 128, 128, 3), dtype=float32) (32, 128, 128, 3)\n",
      "tf.Tensor(\n",
      "[[0. 0. 0. ... 0. 0. 0.]\n",
      " [0. 0. 0. ... 0. 0. 0.]\n",
      " [1. 0. 0. ... 0. 0. 0.]\n",
      " ...\n",
      " [0. 0. 0. ... 0. 0. 0.]\n",
      " [0. 0. 0. ... 0. 0. 0.]\n",
      " [0. 0. 0. ... 0. 0. 0.]], shape=(32, 38), dtype=float32) (32, 38)\n"
     ]
    }
   ],
   "source": [
    "for x, y in training_set:\n",
    "    print(x,x.shape)\n",
    "    print(y,y.shape)\n",
    "    break"
   ]
  },
  {
   "cell_type": "code",
   "execution_count": 18,
   "id": "d928d97f",
   "metadata": {},
   "outputs": [],
   "source": [
    "## Build Model"
   ]
  },
  {
   "cell_type": "code",
   "execution_count": 20,
   "id": "c83061b4",
   "metadata": {},
   "outputs": [],
   "source": [
    "from tensorflow.keras.layers import Dense,Conv2D,MaxPool2D,Flatten,Dropout\n",
    "from tensorflow.keras.models import Sequential\n"
   ]
  },
  {
   "cell_type": "code",
   "execution_count": 22,
   "id": "a813cb5c",
   "metadata": {},
   "outputs": [],
   "source": [
    "model= Sequential()"
   ]
  },
  {
   "cell_type": "code",
   "execution_count": 24,
   "id": "fb4df8ca",
   "metadata": {},
   "outputs": [],
   "source": [
    "## Building Convulation Layer"
   ]
  },
  {
   "cell_type": "code",
   "execution_count": 26,
   "id": "5da2d125",
   "metadata": {},
   "outputs": [],
   "source": [
    "model.add(Conv2D(filters=32, kernel_size=3, padding='same', activation='relu',input_shape=[128,128,3]))\n",
    "model.add(Conv2D(filters=32, kernel_size=3, activation='relu'))\n",
    "model.add(MaxPool2D(pool_size=2,strides=2))"
   ]
  },
  {
   "cell_type": "code",
   "execution_count": 28,
   "id": "b3219213",
   "metadata": {},
   "outputs": [],
   "source": [
    "model.add(Conv2D(filters=64, kernel_size=3, padding='same', activation='relu'))\n",
    "model.add(Conv2D(filters=64, kernel_size=3, activation='relu'))\n",
    "model.add(MaxPool2D(pool_size=2,strides=2))"
   ]
  },
  {
   "cell_type": "code",
   "execution_count": 30,
   "id": "81b066e8",
   "metadata": {},
   "outputs": [],
   "source": [
    "model.add(Conv2D(filters=128, kernel_size=3, padding='same', activation='relu'))\n",
    "model.add(Conv2D(filters=128, kernel_size=3, activation='relu'))\n",
    "model.add(MaxPool2D(pool_size=2,strides=2))"
   ]
  },
  {
   "cell_type": "code",
   "execution_count": 32,
   "id": "293ab47d",
   "metadata": {},
   "outputs": [],
   "source": [
    "model.add(Conv2D(filters=256, kernel_size=3, padding='same', activation='relu'))\n",
    "model.add(Conv2D(filters=256, kernel_size=3, activation='relu'))\n",
    "model.add(MaxPool2D(pool_size=2,strides=2))"
   ]
  },
  {
   "cell_type": "code",
   "execution_count": 34,
   "id": "c82f2a87-be67-46c5-82a3-3b654f1b3395",
   "metadata": {},
   "outputs": [],
   "source": [
    "model.add(Conv2D(filters=512, kernel_size=3, padding='same', activation='relu'))\n",
    "model.add(Conv2D(filters=512, kernel_size=3, activation='relu'))\n",
    "model.add(MaxPool2D(pool_size=2,strides=2))"
   ]
  },
  {
   "cell_type": "code",
   "execution_count": 36,
   "id": "2637c9c1-342a-47b5-a60b-0b12ae1ac4e6",
   "metadata": {},
   "outputs": [],
   "source": [
    "model.add(Dropout(0.25))"
   ]
  },
  {
   "cell_type": "code",
   "execution_count": 38,
   "id": "f265ca6b",
   "metadata": {},
   "outputs": [],
   "source": [
    "model.add(Flatten())"
   ]
  },
  {
   "cell_type": "code",
   "execution_count": 40,
   "id": "38d8b9d8",
   "metadata": {},
   "outputs": [],
   "source": [
    "model.add(Dense(units=1500, activation='relu'))"
   ]
  },
  {
   "cell_type": "code",
   "execution_count": 42,
   "id": "5e0d6962-27a3-40c8-8fa5-815bad83eedc",
   "metadata": {},
   "outputs": [],
   "source": [
    "model.add(Dropout(0.4))"
   ]
  },
  {
   "cell_type": "code",
   "execution_count": 44,
   "id": "e102bde3",
   "metadata": {},
   "outputs": [],
   "source": [
    "#Output layer\n",
    "model.add(Dense(units=38, activation='softmax'))"
   ]
  },
  {
   "cell_type": "code",
   "execution_count": 46,
   "id": "3a583b13",
   "metadata": {},
   "outputs": [],
   "source": [
    "## Compiling Model"
   ]
  },
  {
   "cell_type": "code",
   "execution_count": 48,
   "id": "b7049c58",
   "metadata": {},
   "outputs": [],
   "source": [
    "model.compile(optimizer=tf.keras.optimizers.Adam(\n",
    "    learning_rate=0.0001),loss='categorical_crossentropy', metrics=['accuracy'])"
   ]
  },
  {
   "cell_type": "code",
   "execution_count": 50,
   "id": "ec289fa1",
   "metadata": {},
   "outputs": [
    {
     "name": "stdout",
     "output_type": "stream",
     "text": [
      "Model: \"sequential\"\n",
      "_________________________________________________________________\n",
      "Layer (type)                 Output Shape              Param #   \n",
      "=================================================================\n",
      "conv2d (Conv2D)              (None, 128, 128, 32)      896       \n",
      "_________________________________________________________________\n",
      "conv2d_1 (Conv2D)            (None, 126, 126, 32)      9248      \n",
      "_________________________________________________________________\n",
      "max_pooling2d (MaxPooling2D) (None, 63, 63, 32)        0         \n",
      "_________________________________________________________________\n",
      "conv2d_2 (Conv2D)            (None, 63, 63, 64)        18496     \n",
      "_________________________________________________________________\n",
      "conv2d_3 (Conv2D)            (None, 61, 61, 64)        36928     \n",
      "_________________________________________________________________\n",
      "max_pooling2d_1 (MaxPooling2 (None, 30, 30, 64)        0         \n",
      "_________________________________________________________________\n",
      "conv2d_4 (Conv2D)            (None, 30, 30, 128)       73856     \n",
      "_________________________________________________________________\n",
      "conv2d_5 (Conv2D)            (None, 28, 28, 128)       147584    \n",
      "_________________________________________________________________\n",
      "max_pooling2d_2 (MaxPooling2 (None, 14, 14, 128)       0         \n",
      "_________________________________________________________________\n",
      "conv2d_6 (Conv2D)            (None, 14, 14, 256)       295168    \n",
      "_________________________________________________________________\n",
      "conv2d_7 (Conv2D)            (None, 12, 12, 256)       590080    \n",
      "_________________________________________________________________\n",
      "max_pooling2d_3 (MaxPooling2 (None, 6, 6, 256)         0         \n",
      "_________________________________________________________________\n",
      "conv2d_8 (Conv2D)            (None, 6, 6, 512)         1180160   \n",
      "_________________________________________________________________\n",
      "conv2d_9 (Conv2D)            (None, 4, 4, 512)         2359808   \n",
      "_________________________________________________________________\n",
      "max_pooling2d_4 (MaxPooling2 (None, 2, 2, 512)         0         \n",
      "_________________________________________________________________\n",
      "dropout (Dropout)            (None, 2, 2, 512)         0         \n",
      "_________________________________________________________________\n",
      "flatten (Flatten)            (None, 2048)              0         \n",
      "_________________________________________________________________\n",
      "dense (Dense)                (None, 1500)              3073500   \n",
      "_________________________________________________________________\n",
      "dropout_1 (Dropout)          (None, 1500)              0         \n",
      "_________________________________________________________________\n",
      "dense_1 (Dense)              (None, 38)                57038     \n",
      "=================================================================\n",
      "Total params: 7,842,762\n",
      "Trainable params: 7,842,762\n",
      "Non-trainable params: 0\n",
      "_________________________________________________________________\n"
     ]
    }
   ],
   "source": [
    "model.summary()"
   ]
  },
  {
   "cell_type": "code",
   "execution_count": 52,
   "id": "7b733da4",
   "metadata": {},
   "outputs": [],
   "source": [
    "## Model Training\n"
   ]
  },
  {
   "cell_type": "code",
   "execution_count": 54,
   "id": "67d7d3c4-126d-40af-86cc-f30090071641",
   "metadata": {},
   "outputs": [
    {
     "name": "stdout",
     "output_type": "stream",
     "text": [
      "[]\n"
     ]
    }
   ],
   "source": [
    "print(tf.config.list_physical_devices('GPU'))"
   ]
  },
  {
   "cell_type": "code",
   "execution_count": null,
   "id": "b8b4612d-3f9b-4e23-8960-9e80fcf393f9",
   "metadata": {},
   "outputs": [],
   "source": []
  },
  {
   "cell_type": "code",
   "execution_count": 57,
   "id": "e2ea94f7",
   "metadata": {},
   "outputs": [
    {
     "name": "stdout",
     "output_type": "stream",
     "text": [
      "Epoch 1/10\n",
      "2197/2197 [==============================] - 2845s 1s/step - loss: 1.3162 - accuracy: 0.6127 - val_loss: 0.5670 - val_accuracy: 0.8238\n",
      "Epoch 2/10\n",
      "2197/2197 [==============================] - 2847s 1s/step - loss: 0.4319 - accuracy: 0.8617 - val_loss: 0.3205 - val_accuracy: 0.8959\n",
      "Epoch 3/10\n",
      "2197/2197 [==============================] - 2836s 1s/step - loss: 0.2571 - accuracy: 0.9178 - val_loss: 0.2026 - val_accuracy: 0.9354\n",
      "Epoch 4/10\n",
      "2197/2197 [==============================] - 2840s 1s/step - loss: 0.1828 - accuracy: 0.9407 - val_loss: 0.1987 - val_accuracy: 0.9346\n",
      "Epoch 5/10\n",
      "2197/2197 [==============================] - 2855s 1s/step - loss: 0.1344 - accuracy: 0.9558 - val_loss: 0.1654 - val_accuracy: 0.9488\n",
      "Epoch 6/10\n",
      "2197/2197 [==============================] - 2841s 1s/step - loss: 0.0999 - accuracy: 0.9677 - val_loss: 0.1267 - val_accuracy: 0.9599\n",
      "Epoch 7/10\n",
      "2197/2197 [==============================] - 2868s 1s/step - loss: 0.0813 - accuracy: 0.9727 - val_loss: 0.1030 - val_accuracy: 0.9703\n",
      "Epoch 8/10\n",
      "2197/2197 [==============================] - 2882s 1s/step - loss: 0.0712 - accuracy: 0.9764 - val_loss: 0.1490 - val_accuracy: 0.9535\n",
      "Epoch 9/10\n",
      "2197/2197 [==============================] - 2971s 1s/step - loss: 0.0628 - accuracy: 0.9798 - val_loss: 0.1449 - val_accuracy: 0.9547\n",
      "Epoch 10/10\n",
      "2197/2197 [==============================] - 2900s 1s/step - loss: 0.0534 - accuracy: 0.9827 - val_loss: 0.1471 - val_accuracy: 0.9550\n"
     ]
    }
   ],
   "source": [
    "training_history = model.fit(x=training_set,validation_data=validation_set,epochs=10)"
   ]
  },
  {
   "cell_type": "code",
   "execution_count": null,
   "id": "19d3f2dc-e97b-44d2-9fe8-3f265389da89",
   "metadata": {},
   "outputs": [],
   "source": []
  },
  {
   "cell_type": "code",
   "execution_count": null,
   "id": "4593a8a9",
   "metadata": {},
   "outputs": [],
   "source": [
    "import tensorflow as tf\n",
    "print(\"Num GPUs Available:\", len(tf.config.list_physical_devices('GPU')))"
   ]
  },
  {
   "cell_type": "code",
   "execution_count": null,
   "id": "f087f12c-f1d2-4484-9804-85ac0759ea5b",
   "metadata": {},
   "outputs": [],
   "source": [
    "import tensorflow as tf\n",
    "print(\"TensorFlow version:\", tf.__version__)\n",
    "print(\"GPU Available:\", tf.config.list_physical_devices('GPU'))\n"
   ]
  },
  {
   "cell_type": "code",
   "execution_count": 59,
   "id": "b22ebed4",
   "metadata": {},
   "outputs": [],
   "source": [
    "## model evaluation"
   ]
  },
  {
   "cell_type": "code",
   "execution_count": 61,
   "id": "99c1b47e",
   "metadata": {},
   "outputs": [],
   "source": [
    "### Model evaluation on training set"
   ]
  },
  {
   "cell_type": "code",
   "execution_count": 63,
   "id": "27ca5b4d-b9cb-4892-bbd3-98c0e2150f99",
   "metadata": {},
   "outputs": [
    {
     "name": "stdout",
     "output_type": "stream",
     "text": [
      "2197/2197 [==============================] - 433s 197ms/step - loss: 0.0548 - accuracy: 0.9819\n"
     ]
    }
   ],
   "source": [
    "train_loss,train_acc = model.evaluate(training_set)"
   ]
  },
  {
   "cell_type": "code",
   "execution_count": 65,
   "id": "736705a9-a45a-4f53-8b1b-4d38bd867ae4",
   "metadata": {},
   "outputs": [
    {
     "name": "stdout",
     "output_type": "stream",
     "text": [
      "0.05479849502444267 0.9819332957267761\n"
     ]
    }
   ],
   "source": [
    "print(train_loss,train_acc)"
   ]
  },
  {
   "cell_type": "code",
   "execution_count": 67,
   "id": "289b7819-8e20-4793-a592-ad575fa6bb46",
   "metadata": {},
   "outputs": [],
   "source": [
    "### Model evaluation on validation set"
   ]
  },
  {
   "cell_type": "code",
   "execution_count": 69,
   "id": "8acfb13d-acce-4b2e-824a-f56b4a8350e8",
   "metadata": {},
   "outputs": [
    {
     "name": "stdout",
     "output_type": "stream",
     "text": [
      "550/550 [==============================] - 107s 194ms/step - loss: 0.1471 - accuracy: 0.9550\n"
     ]
    }
   ],
   "source": [
    "val_loss,val_acc = model.evaluate(validation_set)"
   ]
  },
  {
   "cell_type": "code",
   "execution_count": 71,
   "id": "3de19ae2-5de5-452e-bb41-edc02f6d2ef3",
   "metadata": {},
   "outputs": [
    {
     "name": "stdout",
     "output_type": "stream",
     "text": [
      "0.14707612991333008 0.9550421237945557\n"
     ]
    }
   ],
   "source": [
    "print(val_loss,val_acc)"
   ]
  },
  {
   "cell_type": "code",
   "execution_count": 73,
   "id": "bf362a6f-59e4-42a0-ae3a-159114d8ae48",
   "metadata": {},
   "outputs": [],
   "source": [
    "## Saving Model"
   ]
  },
  {
   "cell_type": "code",
   "execution_count": 75,
   "id": "0076f000-c7d8-47a0-8f04-4fd556640d87",
   "metadata": {},
   "outputs": [],
   "source": [
    "model.save(\"trained_model.keras\")"
   ]
  },
  {
   "cell_type": "code",
   "execution_count": 77,
   "id": "9f4322c1-d164-412a-8963-a6e739cb04e0",
   "metadata": {},
   "outputs": [
    {
     "data": {
      "text/plain": [
       "{'loss': [1.3161941766738892,\n",
       "  0.43188372254371643,\n",
       "  0.25709471106529236,\n",
       "  0.18284042179584503,\n",
       "  0.13443411886692047,\n",
       "  0.09994924813508987,\n",
       "  0.08127346634864807,\n",
       "  0.07122014462947845,\n",
       "  0.06279929727315903,\n",
       "  0.05341324210166931],\n",
       " 'accuracy': [0.6126893758773804,\n",
       "  0.8616971373558044,\n",
       "  0.9178320169448853,\n",
       "  0.9407497048377991,\n",
       "  0.955814778804779,\n",
       "  0.9676505923271179,\n",
       "  0.9726722836494446,\n",
       "  0.9763709902763367,\n",
       "  0.9797567129135132,\n",
       "  0.9827299118041992],\n",
       " 'val_loss': [0.5669649243354797,\n",
       "  0.32046744227409363,\n",
       "  0.20259688794612885,\n",
       "  0.1987176239490509,\n",
       "  0.1653968244791031,\n",
       "  0.12671086192131042,\n",
       "  0.1029881164431572,\n",
       "  0.14900265634059906,\n",
       "  0.14487500488758087,\n",
       "  0.1470760554075241],\n",
       " 'val_accuracy': [0.8237537145614624,\n",
       "  0.8959139585494995,\n",
       "  0.9354085922241211,\n",
       "  0.9345549941062927,\n",
       "  0.9487821459770203,\n",
       "  0.959936261177063,\n",
       "  0.9702936410903931,\n",
       "  0.9535055756568909,\n",
       "  0.9547006487846375,\n",
       "  0.9550421237945557]}"
      ]
     },
     "execution_count": 77,
     "metadata": {},
     "output_type": "execute_result"
    }
   ],
   "source": [
    "training_history.history"
   ]
  },
  {
   "cell_type": "code",
   "execution_count": 79,
   "id": "095b8b48-3871-40c2-947c-987b06e5e377",
   "metadata": {},
   "outputs": [],
   "source": [
    "# Recording Model History In json format\n",
    "import json\n",
    "with open(\"training_hist.json\",\"w\") as f:\n",
    "    json.dump(training_history.history,f)"
   ]
  },
  {
   "cell_type": "code",
   "execution_count": 81,
   "id": "6117d3c4-d51f-4c35-8952-d71b650bc3e8",
   "metadata": {},
   "outputs": [
    {
     "data": {
      "text/plain": [
       "[0.8237537145614624,\n",
       " 0.8959139585494995,\n",
       " 0.9354085922241211,\n",
       " 0.9345549941062927,\n",
       " 0.9487821459770203,\n",
       " 0.959936261177063,\n",
       " 0.9702936410903931,\n",
       " 0.9535055756568909,\n",
       " 0.9547006487846375,\n",
       " 0.9550421237945557]"
      ]
     },
     "execution_count": 81,
     "metadata": {},
     "output_type": "execute_result"
    }
   ],
   "source": [
    "training_history.history['val_accuracy']"
   ]
  },
  {
   "cell_type": "code",
   "execution_count": 83,
   "id": "7cc97c00-2717-42ff-8213-7cc1ebb981f5",
   "metadata": {},
   "outputs": [],
   "source": [
    "# Accuracy Visualization"
   ]
  },
  {
   "cell_type": "code",
   "execution_count": 91,
   "id": "20d202cf-3e20-4927-a43f-60dc774b6d64",
   "metadata": {},
   "outputs": [
    {
     "data": {
      "image/png": "[encoded data removed]",
      "text/plain": [
       "<Figure size 432x288 with 1 Axes>"
      ]
     },
     "metadata": {
      "needs_background": "light"
     },
     "output_type": "display_data"
    }
   ],
   "source": [
    "epochs = list(range(1, 11))  # Convert generator to list\n",
    "plt.plot(epochs, training_history.history['accuracy'], color='red', label='Training Accuracy')\n",
    "plt.plot(epochs, training_history.history['val_accuracy'], color='blue', label='Validation Accuracy')\n",
    "plt.xlabel(\"No. of Epochs\")\n",
    "plt.ylabel(\"Accuracy Result\")\n",
    "plt.legend()\n",
    "plt.show()\n"
   ]
  },
  {
   "cell_type": "code",
   "execution_count": 93,
   "id": "00ce834c-177b-4ba7-afd6-59a90d81fc76",
   "metadata": {},
   "outputs": [],
   "source": [
    "# Some Other Matrix for model evaluation"
   ]
  },
  {
   "cell_type": "code",
   "execution_count": 97,
   "id": "f3a1b821-7d86-47ed-8c4b-c113f1f2e255",
   "metadata": {},
   "outputs": [
    {
     "name": "stdout",
     "output_type": "stream",
     "text": [
      "['Apple___Apple_scab', 'Apple___Black_rot', 'Apple___Cedar_apple_rust', 'Apple___healthy', 'Blueberry___healthy', 'Cherry_(including_sour)___Powdery_mildew', 'Cherry_(including_sour)___healthy', 'Corn_(maize)___Cercospora_leaf_spot Gray_leaf_spot', 'Corn_(maize)___Common_rust_', 'Corn_(maize)___Northern_Leaf_Blight', 'Corn_(maize)___healthy', 'Grape___Black_rot', 'Grape___Esca_(Black_Measles)', 'Grape___Leaf_blight_(Isariopsis_Leaf_Spot)', 'Grape___healthy', 'Orange___Haunglongbing_(Citrus_greening)', 'Peach___Bacterial_spot', 'Peach___healthy', 'Pepper,_bell___Bacterial_spot', 'Pepper,_bell___healthy', 'Potato___Early_blight', 'Potato___Late_blight', 'Potato___healthy', 'Raspberry___healthy', 'Soybean___healthy', 'Squash___Powdery_mildew', 'Strawberry___Leaf_scorch', 'Strawberry___healthy', 'Tomato___Bacterial_spot', 'Tomato___Early_blight', 'Tomato___Late_blight', 'Tomato___Leaf_Mold', 'Tomato___Septoria_leaf_spot', 'Tomato___Spider_mites Two-spotted_spider_mite', 'Tomato___Target_Spot', 'Tomato___Tomato_Yellow_Leaf_Curl_Virus', 'Tomato___Tomato_mosaic_virus', 'Tomato___healthy']\n"
     ]
    }
   ],
   "source": [
    "class_names = validation_set.class_names  # Notice 'class_names' instead of 'class_name'\n",
    "print(class_names)"
   ]
  },
  {
   "cell_type": "code",
   "execution_count": null,
   "id": "1c099276-df84-447b-abe5-8558506d0b8e",
   "metadata": {},
   "outputs": [],
   "source": []
  },
  {
   "cell_type": "code",
   "execution_count": 100,
   "id": "5a6fbf53-5bb2-46ec-86c3-73c1f1604719",
   "metadata": {},
   "outputs": [
    {
     "name": "stdout",
     "output_type": "stream",
     "text": [
      "Found 17572 files belonging to 38 classes.\n"
     ]
    }
   ],
   "source": [
    "test_set =  tf.keras.utils.image_dataset_from_directory(\n",
    "    'valid',\n",
    "    labels=\"inferred\",\n",
    "    label_mode=\"categorical\",\n",
    "    class_names=None,\n",
    "    color_mode=\"rgb\",\n",
    "    batch_size=32,\n",
    "    image_size=(128, 128),\n",
    "    shuffle=False,\n",
    "    seed=None,\n",
    "    validation_split=None,\n",
    "    subset=None,\n",
    "    interpolation=\"bilinear\",\n",
    "    follow_links=False,\n",
    "    crop_to_aspect_ratio=False\n",
    ")"
   ]
  },
  {
   "cell_type": "code",
   "execution_count": null,
   "id": "caf12850-69d7-4508-8abf-9cce39684c06",
   "metadata": {},
   "outputs": [],
   "source": [
    "y_pred = model.predict(test_set)\n",
    "y_pred,y_pred.shape"
   ]
  },
  {
   "cell_type": "code",
   "execution_count": null,
   "id": "358c7c53-643c-4da8-af40-43b50b10c732",
   "metadata": {},
   "outputs": [],
   "source": [
    "predicted_categories = tf.argmax(y_pred,axis=1)"
   ]
  },
  {
   "cell_type": "code",
   "execution_count": null,
   "id": "ab9ac930-e146-4a40-94bf-b4b26106fdbf",
   "metadata": {},
   "outputs": [],
   "source": [
    "predicted_categories"
   ]
  },
  {
   "cell_type": "code",
   "execution_count": null,
   "id": "4b2fc7fb-bcdc-459c-9c3d-997493f82307",
   "metadata": {},
   "outputs": [],
   "source": [
    "true_categories = tf.concat([y for x,y in test_set],axis=0)"
   ]
  },
  {
   "cell_type": "code",
   "execution_count": null,
   "id": "e4e9c907-d258-4bd3-9d7e-445f65329356",
   "metadata": {},
   "outputs": [],
   "source": [
    "true_categories"
   ]
  },
  {
   "cell_type": "code",
   "execution_count": null,
   "id": "d729afc8-9ef9-41d2-a560-1daf606659d9",
   "metadata": {},
   "outputs": [],
   "source": [
    "Y_true = tf.argmax(true_categories,axis=1)\n",
    "Y_true"
   ]
  },
  {
   "cell_type": "code",
   "execution_count": null,
   "id": "a08e04eb-189a-48f4-85bb-a5627cd91bc0",
   "metadata": {},
   "outputs": [],
   "source": [
    "from sklearn.matrics import classification report"
   ]
  },
  {
   "cell_type": "code",
   "execution_count": null,
   "id": "f0794c67-a3ee-408c-811e-6d329b786623",
   "metadata": {},
   "outputs": [],
   "source": [
    "print( classification_report(Y_true, y_pred, labels=None, target_names=class_name))"
   ]
  },
  {
   "cell_type": "code",
   "execution_count": null,
   "id": "a0e39e69-d81d-4939-a4d9-365cfa05ac5e",
   "metadata": {},
   "outputs": [],
   "source": [
    "cm= confusion_matrix(Y_true, y_pred)\n",
    "cm.shape"
   ]
  },
  {
   "cell_type": "code",
   "execution_count": null,
   "id": "4a3ad804-009a-4dfd-8837-b83f9fd7c19b",
   "metadata": {},
   "outputs": [],
   "source": [
    "### Confusion Matrix Visualization"
   ]
  },
  {
   "cell_type": "code",
   "execution_count": null,
   "id": "6b8317ff-4dc6-46cc-afc4-62bbeb860400",
   "metadata": {},
   "outputs": [],
   "source": [
    "plt.figure(figsize=(40,40))\n",
    "sns.heatmap(cm, annot=True,annot_kwa={'size': 10})\n",
    "plt.xlabel(\"Predicted Class\",fontsize=20)\n",
    "plt.ylabel(\"Actual Class\",fontsize=20)\n",
    "plt.title(\"Plant Disease Prediction matrix\",fontsize=25)\n",
    "plt.show()"
   ]
  },
  {
   "cell_type": "code",
   "execution_count": null,
   "id": "f816dee3-0f22-49b9-a590-e77a03156dbb",
   "metadata": {},
   "outputs": [],
   "source": []
  },
  {
   "cell_type": "code",
   "execution_count": null,
   "id": "f1eb907d-5b23-47b5-a4a2-ab873f13fbb1",
   "metadata": {},
   "outputs": [],
   "source": []
  },
  {
   "cell_type": "code",
   "execution_count": null,
   "id": "9c5e76e2-5920-41ba-848d-5dbb8239085a",
   "metadata": {},
   "outputs": [],
   "source": []
  },
  {
   "cell_type": "code",
   "execution_count": null,
   "id": "5731011b-6d45-4ff8-8292-43fd094ec4fc",
   "metadata": {},
   "outputs": [],
   "source": []
  }
 ],
 "metadata": {
  "kernelspec": {
   "display_name": "Python [conda env:gpu2]",
   "language": "python",
   "name": "conda-env-gpu2-py"
  },
  "language_info": {
   "codemirror_mode": {
    "name": "ipython",
    "version": 3
   },
   "file_extension": ".py",
   "mimetype": "text/x-python",
   "name": "python",
   "nbconvert_exporter": "python",
   "pygments_lexer": "ipython3",
   "version": "3.6.13"
  }
 },
 "nbformat": 4,
 "nbformat_minor": 5
}
